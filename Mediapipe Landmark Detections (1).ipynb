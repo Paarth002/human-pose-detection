{
 "cells": [
  {
   "cell_type": "code",
   "execution_count": null,
   "id": "c849fb89",
   "metadata": {},
   "outputs": [],
   "source": [
    "import cv2\n",
    "import numpy as np\n",
    "import mediapipe as mp\n",
    "\n",
    "\n",
    "\n",
    "cap = cv2.VideoCapture(\"C:\\\\Users\\\\chinm\\\\Downloads\\\\Woman With Umbrella Walking.mp4\")\n",
    "#Video path : \"C:\\\\Users\\\\chinm\\\\Downloads\\\\Woman With Umbrella Walking.mp4\"\n",
    "\n",
    "\n",
    "mp_drawings = mp.solutions.drawing_utils\n",
    "mp_pose = mp.solutions.pose\n",
    "\n",
    "\n",
    "#SETUP MEDIAPIPE INSTANCE..\n",
    "with mp_pose.Pose(min_detection_confidence = 0.6 , min_tracking_confidence = 0.6) as pose:\n",
    "    while cap.isOpened():\n",
    "        ret , img0 = cap.read()\n",
    "        img = cv2.resize(img0 , (964,484))\n",
    "\n",
    "        image = cv2.cvtColor(img , cv2.COLOR_BGR2RGB) #RECOLOURING THE IMAGE..{Opencv = BGR , Mediapipe = RGB}\n",
    "        image.flags.writeable = False  #Setting image to unwritable...\n",
    "\n",
    "        result = pose.process(image)  #MAKES DETECTION..# Storing processed image in result\n",
    "\n",
    "        image.flags.writeable = True  #Setting image back to writable..\n",
    "        image = cv2.cvtColor(image, cv2.COLOR_RGB2BGR) #Back to BGR\n",
    "\n",
    "        #Extract LANDMARKS...\n",
    "        try:\n",
    "            \n",
    "            landmarks = result.pose_landmarks.landmark\n",
    "            \n",
    "        except:\n",
    "            pass\n",
    "\n",
    "        \n",
    "\n",
    "        \n",
    "        #Render Detections...\n",
    "        mp_drawings.draw_landmarks(image , result.pose_landmarks, mp_pose.POSE_CONNECTIONS, mp_drawings.DrawingSpec(color =(245,177,66), thickness = 2 , circle_radius = 2), mp_drawings.DrawingSpec(color =(245,66,230), thickness = 2 , circle_radius = 2)) \n",
    "    \n",
    "  \n",
    "        #print(result)\n",
    "\n",
    "\n",
    "        \n",
    "        cv2.imshow(\"Video\", image)\n",
    "        if cv2.waitKey(10) & 0xFF == ord('q'):\n",
    "            break\n",
    "\n",
    "        "
   ]
  }
 ],
 "metadata": {
  "kernelspec": {
   "display_name": "Python 3 (ipykernel)",
   "language": "python",
   "name": "python3"
  },
  "language_info": {
   "codemirror_mode": {
    "name": "ipython",
    "version": 3
   },
   "file_extension": ".py",
   "mimetype": "text/x-python",
   "name": "python",
   "nbconvert_exporter": "python",
   "pygments_lexer": "ipython3",
   "version": "3.10.2"
  }
 },
 "nbformat": 4,
 "nbformat_minor": 5
}
